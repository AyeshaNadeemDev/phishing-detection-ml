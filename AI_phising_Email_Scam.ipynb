{
  "nbformat": 4,
  "nbformat_minor": 0,
  "metadata": {
    "colab": {
      "provenance": []
    },
    "kernelspec": {
      "name": "python3",
      "display_name": "Python 3"
    },
    "language_info": {
      "name": "python"
    }
  },
  "cells": [
    {
      "cell_type": "markdown",
      "source": [
        "# **Load and Explore Datset**"
      ],
      "metadata": {
        "id": "soIRP0vjTYfH"
      }
    },
    {
      "cell_type": "code",
      "execution_count": 3,
      "metadata": {
        "colab": {
          "base_uri": "https://localhost:8080/"
        },
        "id": "PfxmGjz6SUXs",
        "outputId": "0db2a746-b8e2-40ca-cfb9-6a7eeba6ea42"
      },
      "outputs": [
        {
          "output_type": "stream",
          "name": "stdout",
          "text": [
            "<class 'pandas.core.frame.DataFrame'>\n",
            "RangeIndex: 18255 entries, 0 to 18254\n",
            "Data columns (total 3 columns):\n",
            " #   Column      Non-Null Count  Dtype \n",
            "---  ------      --------------  ----- \n",
            " 0   Unnamed: 0  18255 non-null  int64 \n",
            " 1   Email Text  18239 non-null  object\n",
            " 2   Email Type  18254 non-null  object\n",
            "dtypes: int64(1), object(2)\n",
            "memory usage: 428.0+ KB\n",
            "None\n",
            "   Unnamed: 0                                         Email Text  \\\n",
            "0           0  re : 6 . 1100 , disc : uniformitarianism , re ...   \n",
            "1           1  the other side of * galicismos * * galicismo *...   \n",
            "2           2  re : equistar deal tickets are you still avail...   \n",
            "3           3  \\nHello I am your hot lil horny toy.\\n    I am...   \n",
            "4           4  software at incredibly low prices ( 86 % lower...   \n",
            "\n",
            "       Email Type  \n",
            "0      Safe Email  \n",
            "1      Safe Email  \n",
            "2      Safe Email  \n",
            "3  Phishing Email  \n",
            "4  Phishing Email  \n"
          ]
        }
      ],
      "source": [
        "import pandas as pd\n",
        "\n",
        "# Load the dataset (replace 'your_file_path' with the actual file path)\n",
        "df = pd.read_csv(\"/content/Phishing_Email.csv\")  # Adjust the path if necessary\n",
        "\n",
        "# Display basic information\n",
        "print(df.info())\n",
        "print(df.head())  # Show first 5 rows\n",
        "\n",
        "\n"
      ]
    },
    {
      "cell_type": "markdown",
      "source": [
        "# **Visualize the Data**\n",
        "**a. Class Distribution**"
      ],
      "metadata": {
        "id": "G10V7RJKUFHg"
      }
    },
    {
      "cell_type": "code",
      "source": [
        "import matplotlib.pyplot as plt\n",
        "\n",
        "# Count of phishing vs safe emails\n",
        "plt.figure(figsize=(6,4))\n",
        "df['Email Type'].value_counts().plot(kind='bar', color=['green', 'red'])\n",
        "plt.xlabel(\"Email Type\")\n",
        "plt.ylabel(\"Count\")\n",
        "plt.title(\"Count of Phishing vs Safe Emails\")\n",
        "plt.show()\n",
        "\n"
      ],
      "metadata": {
        "colab": {
          "base_uri": "https://localhost:8080/",
          "height": 497
        },
        "id": "TVVOQd5GUE0R",
        "outputId": "39b171d8-1e37-4389-e9a9-f6663a5898d4"
      },
      "execution_count": 10,
      "outputs": [
        {
          "output_type": "display_data",
          "data": {
            "text/plain": [
              "<Figure size 600x400 with 1 Axes>"
            ],
            "image/png": "[encoded data removed]"
          },
          "metadata": {}
        }
      ]
    },
    {
      "cell_type": "markdown",
      "source": [
        "**Word Cloud Visualization**"
      ],
      "metadata": {
        "id": "7clv3AJaVSwi"
      }
    },
    {
      "cell_type": "code",
      "source": [
        "from wordcloud import WordCloud\n",
        "import matplotlib.pyplot as plt\n",
        "\n",
        "# Function to generate word cloud\n",
        "def generate_wordcloud(text_series, title):\n",
        "    # Drop NaN and empty values\n",
        "    text_series = text_series.dropna()\n",
        "    text_series = text_series[text_series.str.strip() != \"\"]\n",
        "\n",
        "    # Check if there are words to display\n",
        "    if text_series.empty:\n",
        "        print(f\"No data available to generate word cloud for {title}.\")\n",
        "        return\n",
        "\n",
        "    # Generate word cloud\n",
        "    wordcloud = WordCloud(width=800, height=400, background_color='white').generate(\" \".join(text_series))\n",
        "    plt.figure(figsize=(10, 5))\n",
        "    plt.imshow(wordcloud, interpolation=\"bilinear\")\n",
        "    plt.axis(\"off\")\n",
        "    plt.title(title)\n",
        "    plt.show()\n",
        "\n",
        "# Word cloud for phishing emails\n",
        "generate_wordcloud(df[df['Email Type'] == 'Phishing']['Email Text'], \"Phishing Emails\")\n",
        "\n",
        "# Word cloud for safe emails\n",
        "generate_wordcloud(df[df['Email Type'] == 'Safe']['Email Text'], \"Safe Emails\")\n",
        "\n",
        "\n"
      ],
      "metadata": {
        "colab": {
          "base_uri": "https://localhost:8080/"
        },
        "id": "vvyhkkvJVGCE",
        "outputId": "59bf68d1-12f5-4d5f-d260-e8e29462373b"
      },
      "execution_count": 12,
      "outputs": [
        {
          "output_type": "stream",
          "name": "stdout",
          "text": [
            "No data available to generate word cloud for Phishing Emails.\n",
            "No data available to generate word cloud for Safe Emails.\n"
          ]
        }
      ]
    },
    {
      "cell_type": "markdown",
      "source": [
        "# **Importing Libraries**"
      ],
      "metadata": {
        "id": "mdBRqBGDf92Q"
      }
    },
    {
      "cell_type": "code",
      "source": [
        "import pandas as pd\n",
        "import numpy as np\n",
        "import seaborn as sns\n",
        "import matplotlib.pyplot as plt\n",
        "from sklearn.model_selection import train_test_split\n",
        "from sklearn.feature_extraction.text import TfidfVectorizer\n",
        "from sklearn.ensemble import RandomForestClassifier\n",
        "from sklearn.svm import SVC\n",
        "from sklearn.metrics import accuracy_score, classification_report, confusion_matrix"
      ],
      "metadata": {
        "id": "g6BlXnqBf8cM"
      },
      "execution_count": 13,
      "outputs": []
    },
    {
      "cell_type": "markdown",
      "source": [
        "# **Load and Preprocessing Dataset**"
      ],
      "metadata": {
        "id": "RPuFteoThnNQ"
      }
    },
    {
      "cell_type": "code",
      "source": [
        "# Load dataset (assuming CSV format)\n",
        "df = pd.read_csv(\"Phishing_Email.csv\")\n",
        "\n",
        "# Display dataset information\n",
        "print(df.head())\n",
        "\n",
        "# Preprocessing: Handling missing values\n",
        "df.dropna(inplace=True)\n",
        "\n",
        "# Feature Engineering: Extracting email content and labels\n",
        "X = df['Email Text']  # Email body\n",
        "y = df['Email Type']  # Phishing or Safe\n",
        "\n",
        "# Convert text into numerical format using TF-IDF\n",
        "vectorizer = TfidfVectorizer(stop_words='english', max_features=5000)\n",
        "X_transformed = vectorizer.fit_transform(X)\n",
        "\n",
        "# Splitting data into training and testing sets\n",
        "X_train, X_test, y_train, y_test = train_test_split(X_transformed, y, test_size=0.2, random_state=42)"
      ],
      "metadata": {
        "colab": {
          "base_uri": "https://localhost:8080/"
        },
        "id": "KLPaXrd1VzMY",
        "outputId": "dbc99fdc-fd21-4a4c-8394-fd595626a7f0"
      },
      "execution_count": 14,
      "outputs": [
        {
          "output_type": "stream",
          "name": "stdout",
          "text": [
            "   Unnamed: 0                                         Email Text  \\\n",
            "0           0  re : 6 . 1100 , disc : uniformitarianism , re ...   \n",
            "1           1  the other side of * galicismos * * galicismo *...   \n",
            "2           2  re : equistar deal tickets are you still avail...   \n",
            "3           3  \\nHello I am your hot lil horny toy.\\n    I am...   \n",
            "4           4  software at incredibly low prices ( 86 % lower...   \n",
            "\n",
            "       Email Type  \n",
            "0      Safe Email  \n",
            "1      Safe Email  \n",
            "2      Safe Email  \n",
            "3  Phishing Email  \n",
            "4  Phishing Email  \n"
          ]
        }
      ]
    },
    {
      "cell_type": "markdown",
      "source": [
        "# **Training and Evaluating Random Forest Model**"
      ],
      "metadata": {
        "id": "IDiyzE8kidkn"
      }
    },
    {
      "cell_type": "code",
      "source": [
        "# Random Forest Model\n",
        "rf_model = RandomForestClassifier(n_estimators=100, random_state=42)\n",
        "rf_model.fit(X_train, y_train)\n",
        "rf_pred = rf_model.predict(X_test)\n",
        "\n",
        "# Evaluating Random Forest\n",
        "print(\"Random Forest Accuracy:\", accuracy_score(y_test, rf_pred))\n",
        "print(\"\\nRandom Forest Classification Report:\\n\", classification_report(y_test, rf_pred))"
      ],
      "metadata": {
        "colab": {
          "base_uri": "https://localhost:8080/"
        },
        "id": "MIV_gk30ifoo",
        "outputId": "998e31c8-9a97-4ba2-cea7-54b2b37b69ed"
      },
      "execution_count": 15,
      "outputs": [
        {
          "output_type": "stream",
          "name": "stdout",
          "text": [
            "Random Forest Accuracy: 0.9624362758250604\n",
            "\n",
            "Random Forest Classification Report:\n",
            "                 precision    recall  f1-score   support\n",
            "\n",
            "Phishing Email       0.93      0.98      0.95      1518\n",
            "    Safe Email       0.98      0.95      0.97      2209\n",
            "\n",
            "      accuracy                           0.96      3727\n",
            "     macro avg       0.96      0.96      0.96      3727\n",
            "  weighted avg       0.96      0.96      0.96      3727\n",
            "\n"
          ]
        }
      ]
    },
    {
      "cell_type": "markdown",
      "source": [
        "# **Training and Evaluating SVM Model**"
      ],
      "metadata": {
        "id": "RcDWEyJpjXRc"
      }
    },
    {
      "cell_type": "code",
      "source": [
        "# Support Vector Machine Model\n",
        "svm_model = SVC(kernel='linear', probability=True)\n",
        "svm_model.fit(X_train, y_train)\n",
        "svm_pred = svm_model.predict(X_test)\n",
        "\n",
        "# Evaluating SVM\n",
        "print(\"SVM Accuracy:\", accuracy_score(y_test, svm_pred))\n",
        "print(\"\\nSVM Classification Report:\\n\", classification_report(y_test, svm_pred))"
      ],
      "metadata": {
        "colab": {
          "base_uri": "https://localhost:8080/"
        },
        "id": "OVzCykAMjXAP",
        "outputId": "13673695-05a8-424c-d712-06753ceed01a"
      },
      "execution_count": 16,
      "outputs": [
        {
          "output_type": "stream",
          "name": "stdout",
          "text": [
            "SVM Accuracy: 0.9704856452911189\n",
            "\n",
            "SVM Classification Report:\n",
            "                 precision    recall  f1-score   support\n",
            "\n",
            "Phishing Email       0.95      0.98      0.96      1518\n",
            "    Safe Email       0.99      0.96      0.97      2209\n",
            "\n",
            "      accuracy                           0.97      3727\n",
            "     macro avg       0.97      0.97      0.97      3727\n",
            "  weighted avg       0.97      0.97      0.97      3727\n",
            "\n"
          ]
        }
      ]
    },
    {
      "cell_type": "markdown",
      "source": [
        "# **Visualization of Confusion Matrices**"
      ],
      "metadata": {
        "id": "r6pHjG4AlTjS"
      }
    },
    {
      "cell_type": "code",
      "source": [
        "# Confusion Matrix Visualization\n",
        "fig, axes = plt.subplots(1, 2, figsize=(12, 4))\n",
        "sns.heatmap(confusion_matrix(y_test, rf_pred), annot=True, fmt='d', cmap='Blues', ax=axes[0])\n",
        "axes[0].set_title('Random Forest Confusion Matrix')\n",
        "sns.heatmap(confusion_matrix(y_test, svm_pred), annot=True, fmt='d', cmap='Reds', ax=axes[1])\n",
        "axes[1].set_title('SVM Confusion Matrix')\n",
        "plt.show()"
      ],
      "metadata": {
        "colab": {
          "base_uri": "https://localhost:8080/",
          "height": 391
        },
        "id": "CF-PLwLrmAAj",
        "outputId": "3066e3f3-39dd-4054-910a-8e57d9c8f961"
      },
      "execution_count": 19,
      "outputs": [
        {
          "output_type": "display_data",
          "data": {
            "text/plain": [
              "<Figure size 1200x400 with 4 Axes>"
            ],
            "image/png": "[encoded data removed]"
          },
          "metadata": {}
        }
      ]
    }
  ]
}